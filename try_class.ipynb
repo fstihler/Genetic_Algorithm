{
 "cells": [
  {
   "cell_type": "code",
   "execution_count": 1,
   "metadata": {},
   "outputs": [],
   "source": [
    "from GA import *\n",
    "import statsmodels.api as sm\n",
    "\n",
    "spector_data = sm.datasets.spector.load()\n",
    "\n",
    "X = spector_data.exog\n",
    "y = spector_data.endog\n",
    "\n",
    "temp = GA(X=X, y=y, mod=sm.OLS, max_iter=10, random_seed=1)\n"
   ]
  },
  {
   "cell_type": "code",
   "execution_count": 2,
   "metadata": {},
   "outputs": [
    {
     "name": "stdout",
     "output_type": "stream",
     "text": [
      "Using genetic operators: [<function _CrossOver.split_and_glue_population at 0x7fbe910c93a0>, <function _Mutation.random_mutate at 0x7fbe910c9700>].\n"
     ]
    },
    {
     "ename": "InvalidIndexError",
     "evalue": "(slice(None, None, None), array([ True,  True, False]))",
     "output_type": "error",
     "traceback": [
      "\u001b[0;31m---------------------------------------------------------------------------\u001b[0m",
      "\u001b[0;31mTypeError\u001b[0m                                 Traceback (most recent call last)",
      "File \u001b[0;32m~/opt/anaconda3/lib/python3.9/site-packages/pandas/core/indexes/base.py:3621\u001b[0m, in \u001b[0;36mIndex.get_loc\u001b[0;34m(self, key, method, tolerance)\u001b[0m\n\u001b[1;32m   3620\u001b[0m \u001b[39mtry\u001b[39;00m:\n\u001b[0;32m-> 3621\u001b[0m     \u001b[39mreturn\u001b[39;00m \u001b[39mself\u001b[39;49m\u001b[39m.\u001b[39;49m_engine\u001b[39m.\u001b[39;49mget_loc(casted_key)\n\u001b[1;32m   3622\u001b[0m \u001b[39mexcept\u001b[39;00m \u001b[39mKeyError\u001b[39;00m \u001b[39mas\u001b[39;00m err:\n",
      "File \u001b[0;32m~/opt/anaconda3/lib/python3.9/site-packages/pandas/_libs/index.pyx:136\u001b[0m, in \u001b[0;36mpandas._libs.index.IndexEngine.get_loc\u001b[0;34m()\u001b[0m\n",
      "File \u001b[0;32m~/opt/anaconda3/lib/python3.9/site-packages/pandas/_libs/index.pyx:142\u001b[0m, in \u001b[0;36mpandas._libs.index.IndexEngine.get_loc\u001b[0;34m()\u001b[0m\n",
      "\u001b[0;31mTypeError\u001b[0m: '(slice(None, None, None), array([ True,  True, False]))' is an invalid key",
      "\nDuring handling of the above exception, another exception occurred:\n",
      "\u001b[0;31mInvalidIndexError\u001b[0m                         Traceback (most recent call last)",
      "\u001b[1;32m/Users/seanzhou/Documents/Git/Genetic-Algorithm/try_class.ipynb Cell 2\u001b[0m in \u001b[0;36m<cell line: 1>\u001b[0;34m()\u001b[0m\n\u001b[0;32m----> <a href='vscode-notebook-cell:/Users/seanzhou/Documents/Git/Genetic-Algorithm/try_class.ipynb#ch0000001?line=0'>1</a>\u001b[0m temp\u001b[39m.\u001b[39;49mselect()\n",
      "File \u001b[0;32m~/Documents/Git/Genetic-Algorithm/GA/gavs.py:108\u001b[0m, in \u001b[0;36mGA.select\u001b[0;34m(self, operator_list)\u001b[0m\n\u001b[1;32m    106\u001b[0m \u001b[39m\"\"\"Calculates fitness and pairs parents\"\"\"\u001b[39;00m\n\u001b[1;32m    107\u001b[0m \u001b[39m# chrom_ranked: ordered bool matrix(current_pop) from the fittest to unfittest\u001b[39;00m\n\u001b[0;32m--> 108\u001b[0m chrom_ranked, fitness_val \u001b[39m=\u001b[39m \u001b[39mself\u001b[39;49m\u001b[39m.\u001b[39;49mcalc_fit_sort_population(current_pop)\n\u001b[1;32m    109\u001b[0m parents \u001b[39m=\u001b[39m \u001b[39mself\u001b[39m\u001b[39m.\u001b[39mselect_from_fitness_rank(chrom_ranked)\n\u001b[1;32m    110\u001b[0m current_pop \u001b[39m=\u001b[39m parents    \u001b[39m# update current_pop's chromosome\u001b[39;00m\n",
      "File \u001b[0;32m~/Documents/Git/Genetic-Algorithm/GA/utils/calculate_fit.py:24\u001b[0m, in \u001b[0;36m_CalculateFit.calc_fit_sort_population\u001b[0;34m(self, current_population)\u001b[0m\n\u001b[1;32m     14\u001b[0m \u001b[39mdef\u001b[39;00m \u001b[39mcalc_fit_sort_population\u001b[39m(\u001b[39mself\u001b[39m, \n\u001b[1;32m     15\u001b[0m     current_population: ndarray\n\u001b[1;32m     16\u001b[0m ) \u001b[39m-\u001b[39m\u001b[39m>\u001b[39m Tuple[ndarray, ndarray]:\n\u001b[1;32m     17\u001b[0m     \u001b[39m\"\"\"\u001b[39;00m\n\u001b[1;32m     18\u001b[0m \u001b[39m    Calculated fitness of organisms and sorts population based on fitness score (AIC). From low AIC (best) to high.\u001b[39;00m\n\u001b[1;32m     19\u001b[0m \u001b[39m    \u001b[39;00m\n\u001b[1;32m     20\u001b[0m \u001b[39m    Inputs: Current population\u001b[39;00m\n\u001b[1;32m     21\u001b[0m \u001b[39m    Outputs: Sorted population, sorted fitness scores\u001b[39;00m\n\u001b[1;32m     22\u001b[0m \u001b[39m    \"\"\"\u001b[39;00m\n\u001b[0;32m---> 24\u001b[0m     fitness_scores: ndarray \u001b[39m=\u001b[39m \u001b[39mself\u001b[39;49m\u001b[39m.\u001b[39;49mcalculate_fit_of_population(current_population)\n\u001b[1;32m     25\u001b[0m     \u001b[39mreturn\u001b[39;00m \u001b[39mself\u001b[39m\u001b[39m.\u001b[39msort_population(current_population, fitness_scores)\n",
      "File \u001b[0;32m~/Documents/Git/Genetic-Algorithm/GA/utils/calculate_fit.py:53\u001b[0m, in \u001b[0;36m_CalculateFit.calculate_fit_of_population\u001b[0;34m(self, current_population)\u001b[0m\n\u001b[1;32m     51\u001b[0m fitness_scores \u001b[39m=\u001b[39m []\n\u001b[1;32m     52\u001b[0m \u001b[39mfor\u001b[39;00m organism \u001b[39min\u001b[39;00m current_population:\n\u001b[0;32m---> 53\u001b[0m     X_trimmed \u001b[39m=\u001b[39m \u001b[39mself\u001b[39;49m\u001b[39m.\u001b[39;49mselect_features(organism)\n\u001b[1;32m     54\u001b[0m     fitness_scores\u001b[39m.\u001b[39mappend(\u001b[39mself\u001b[39m\u001b[39m.\u001b[39mcalculate_fit_per_organism(X_trimmed))\n\u001b[1;32m     55\u001b[0m \u001b[39mreturn\u001b[39;00m np\u001b[39m.\u001b[39marray(fitness_scores)\n",
      "File \u001b[0;32m~/Documents/Git/Genetic-Algorithm/GA/utils/calculate_fit.py:80\u001b[0m, in \u001b[0;36m_CalculateFit.select_features\u001b[0;34m(self, organism)\u001b[0m\n\u001b[1;32m     72\u001b[0m \u001b[39m\"\"\"\u001b[39;00m\n\u001b[1;32m     73\u001b[0m \u001b[39mDrops non-relevant features from data based on allels of an organism.\u001b[39;00m\n\u001b[1;32m     74\u001b[0m \u001b[39m\u001b[39;00m\n\u001b[1;32m     75\u001b[0m \u001b[39mInputs: Single organism - Size: (1 x C (number of predictors))\u001b[39;00m\n\u001b[1;32m     76\u001b[0m \u001b[39mOutputs: Data to be used for fitness calculation of this organism\u001b[39;00m\n\u001b[1;32m     77\u001b[0m \u001b[39m\"\"\"\u001b[39;00m\n\u001b[1;32m     79\u001b[0m \u001b[39m#X_trimmed = self.X.drop(columns=self.X.columns[organism == 0], axis=1)\u001b[39;00m\n\u001b[0;32m---> 80\u001b[0m X_trimmed \u001b[39m=\u001b[39m \u001b[39mself\u001b[39;49m\u001b[39m.\u001b[39;49mX[:, organism \u001b[39m!=\u001b[39;49m \u001b[39m0\u001b[39;49m]\n\u001b[1;32m     82\u001b[0m \u001b[39mreturn\u001b[39;00m X_trimmed\n",
      "File \u001b[0;32m~/opt/anaconda3/lib/python3.9/site-packages/pandas/core/frame.py:3505\u001b[0m, in \u001b[0;36mDataFrame.__getitem__\u001b[0;34m(self, key)\u001b[0m\n\u001b[1;32m   3503\u001b[0m \u001b[39mif\u001b[39;00m \u001b[39mself\u001b[39m\u001b[39m.\u001b[39mcolumns\u001b[39m.\u001b[39mnlevels \u001b[39m>\u001b[39m \u001b[39m1\u001b[39m:\n\u001b[1;32m   3504\u001b[0m     \u001b[39mreturn\u001b[39;00m \u001b[39mself\u001b[39m\u001b[39m.\u001b[39m_getitem_multilevel(key)\n\u001b[0;32m-> 3505\u001b[0m indexer \u001b[39m=\u001b[39m \u001b[39mself\u001b[39;49m\u001b[39m.\u001b[39;49mcolumns\u001b[39m.\u001b[39;49mget_loc(key)\n\u001b[1;32m   3506\u001b[0m \u001b[39mif\u001b[39;00m is_integer(indexer):\n\u001b[1;32m   3507\u001b[0m     indexer \u001b[39m=\u001b[39m [indexer]\n",
      "File \u001b[0;32m~/opt/anaconda3/lib/python3.9/site-packages/pandas/core/indexes/base.py:3628\u001b[0m, in \u001b[0;36mIndex.get_loc\u001b[0;34m(self, key, method, tolerance)\u001b[0m\n\u001b[1;32m   3623\u001b[0m         \u001b[39mraise\u001b[39;00m \u001b[39mKeyError\u001b[39;00m(key) \u001b[39mfrom\u001b[39;00m \u001b[39merr\u001b[39;00m\n\u001b[1;32m   3624\u001b[0m     \u001b[39mexcept\u001b[39;00m \u001b[39mTypeError\u001b[39;00m:\n\u001b[1;32m   3625\u001b[0m         \u001b[39m# If we have a listlike key, _check_indexing_error will raise\u001b[39;00m\n\u001b[1;32m   3626\u001b[0m         \u001b[39m#  InvalidIndexError. Otherwise we fall through and re-raise\u001b[39;00m\n\u001b[1;32m   3627\u001b[0m         \u001b[39m#  the TypeError.\u001b[39;00m\n\u001b[0;32m-> 3628\u001b[0m         \u001b[39mself\u001b[39;49m\u001b[39m.\u001b[39;49m_check_indexing_error(key)\n\u001b[1;32m   3629\u001b[0m         \u001b[39mraise\u001b[39;00m\n\u001b[1;32m   3631\u001b[0m \u001b[39m# GH#42269\u001b[39;00m\n",
      "File \u001b[0;32m~/opt/anaconda3/lib/python3.9/site-packages/pandas/core/indexes/base.py:5637\u001b[0m, in \u001b[0;36mIndex._check_indexing_error\u001b[0;34m(self, key)\u001b[0m\n\u001b[1;32m   5633\u001b[0m \u001b[39mdef\u001b[39;00m \u001b[39m_check_indexing_error\u001b[39m(\u001b[39mself\u001b[39m, key):\n\u001b[1;32m   5634\u001b[0m     \u001b[39mif\u001b[39;00m \u001b[39mnot\u001b[39;00m is_scalar(key):\n\u001b[1;32m   5635\u001b[0m         \u001b[39m# if key is not a scalar, directly raise an error (the code below\u001b[39;00m\n\u001b[1;32m   5636\u001b[0m         \u001b[39m# would convert to numpy arrays and raise later any way) - GH29926\u001b[39;00m\n\u001b[0;32m-> 5637\u001b[0m         \u001b[39mraise\u001b[39;00m InvalidIndexError(key)\n",
      "\u001b[0;31mInvalidIndexError\u001b[0m: (slice(None, None, None), array([ True,  True, False]))"
     ]
    }
   ],
   "source": [
    "temp.select()\n"
   ]
  },
  {
   "cell_type": "code",
   "execution_count": 1,
   "metadata": {},
   "outputs": [],
   "source": [
    "from GA import *\n",
    "import statsmodels.api as sm\n",
    "\n",
    "spector_data = sm.datasets.spector.load()\n",
    "\n",
    "X = spector_data.exog\n",
    "y = spector_data.endog"
   ]
  },
  {
   "cell_type": "code",
   "execution_count": 13,
   "metadata": {},
   "outputs": [
    {
     "data": {
      "text/plain": [
       "False"
      ]
     },
     "execution_count": 13,
     "metadata": {},
     "output_type": "execute_result"
    }
   ],
   "source": [
    "isinstance(sm.OLS, sm.regression.linear_model.RegressionModel)"
   ]
  },
  {
   "cell_type": "code",
   "execution_count": null,
   "metadata": {},
   "outputs": [],
   "source": []
  }
 ],
 "metadata": {
  "kernelspec": {
   "display_name": "Python 3.9.12 ('base')",
   "language": "python",
   "name": "python3"
  },
  "language_info": {
   "codemirror_mode": {
    "name": "ipython",
    "version": 3
   },
   "file_extension": ".py",
   "mimetype": "text/x-python",
   "name": "python",
   "nbconvert_exporter": "python",
   "pygments_lexer": "ipython3",
   "version": "3.9.12"
  },
  "orig_nbformat": 4,
  "vscode": {
   "interpreter": {
    "hash": "162b6b064e165ad366d1bd4cdc631c4691b039cb551eb2d47403b16e997dbe09"
   }
  }
 },
 "nbformat": 4,
 "nbformat_minor": 2
}
