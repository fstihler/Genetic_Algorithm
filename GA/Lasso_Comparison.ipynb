{
 "cells": [
  {
   "cell_type": "code",
   "execution_count": null,
   "id": "a978c179",
   "metadata": {},
   "outputs": [],
   "source": [
    "# Due to current import difficulties, code repeated here"
   ]
  },
  {
   "cell_type": "code",
   "execution_count": 7,
   "id": "1a586217",
   "metadata": {},
   "outputs": [],
   "source": [
    "\"\"\" \n",
    "Module to calculate the fitness of the current generation\n",
    "\"\"\"\n",
    "from typing import List, Tuple\n",
    "from numpy import ndarray\n",
    "import numpy as np\n",
    "from statsmodels.regression.linear_model import RegressionModel\n",
    "import statsmodels.api as sm\n",
    "\n",
    "class _CalculateFit:\n",
    "    \n",
    "    def __init__(self):\n",
    "        pass\n",
    "    \n",
    "    def calc_fit_sort_population(self, \n",
    "        current_population: ndarray\n",
    "    ) -> Tuple[ndarray, ndarray]:\n",
    "        \"\"\"\n",
    "        Calculated fitness of organisms and sorts population based on fitness score (AIC). From low AIC (best) to high.\n",
    "        \n",
    "        Inputs: Current population\n",
    "        Outputs: Sorted population, sorted fitness scores\n",
    "        \"\"\"\n",
    "        \n",
    "        fitness_scores: ndarray = self.calculate_fit_of_population(current_population)\n",
    "        return self.sort_population(current_population, fitness_scores)\n",
    "    \n",
    "    def sort_population(self, \n",
    "        current_population: ndarray, fitness_scores\n",
    "        )-> Tuple[ndarray, ndarray]:\n",
    "        \"\"\"\n",
    "        Sorts population based on fitness score (AIC). From low AIC (best) to high.\n",
    "        \n",
    "        Inputs: Current population, Fitness scores per organism\n",
    "        Outputs: Sorted population, sorted fitness scores\n",
    "        \"\"\"\n",
    "        \n",
    "        sort_index = np.argsort(fitness_scores)\n",
    "        \n",
    "        return current_population[sort_index], fitness_scores[sort_index]\n",
    "    \n",
    "    \n",
    "    def calculate_fit_of_population(self, \n",
    "        current_population: ndarray\n",
    "        ) -> ndarray:\n",
    "        \"\"\"\n",
    "        Calculates fitness of all organism in generation.\n",
    "        \n",
    "        Inputs: Current population\n",
    "        Outputs: Fitness score per organism\n",
    "        \"\"\"\n",
    "        fitness_scores = []\n",
    "        for organism in current_population:\n",
    "            X_trimmed = self.select_features(organism)\n",
    "            fitness_scores.append(self.calculate_fit_per_organism(X_trimmed))\n",
    "        return np.array(fitness_scores)\n",
    "            \n",
    "    def calculate_fit_per_organism(self, X_trimmed: ndarray) -> float:\n",
    "        \"\"\"\n",
    "        Calculates fitness of one organism based on trimmed data according to its allels.\n",
    "        \n",
    "        Inputs: Trimmed data\n",
    "        Outputs: Fitness score of organism\n",
    "        \"\"\"\n",
    "        X_trimmed_w_intercept = sm.add_constant(X_trimmed)\n",
    "        mod = self.mod(self.y, X_trimmed_w_intercept)\n",
    "\n",
    "        # Check if the model is an instance of RegressionModel\n",
    "        if not isinstance(mod, RegressionModel):\n",
    "            raise TypeError(f\"The model must be an instance of a statsmodels linear regression model. Instead it is {type(mod)}\")\n",
    "        \n",
    "        #print(mod.fit().params)\n",
    "\n",
    "        aic = mod.fit().aic\n",
    "        return aic\n",
    "        \n",
    "    def select_features(self, organism: ndarray) -> ndarray:\n",
    "        \"\"\"\n",
    "        Drops non-relevant features from data based on allels of an organism.\n",
    "        \n",
    "        Inputs: Single organism - Size: (1 x C (number of predictors))\n",
    "        Outputs: Data to be used for fitness calculation of this organism\n",
    "        \"\"\"\n",
    "      \n",
    "        X_trimmed = self.X.drop(columns=self.X.columns[organism == 0], axis=1)\n",
    "        #X_trimmed = self.X[:, organism != 0]\n",
    "\n",
    "        return X_trimmed"
   ]
  },
  {
   "cell_type": "code",
   "execution_count": 8,
   "id": "a7f0d5ee",
   "metadata": {},
   "outputs": [],
   "source": [
    "\"\"\" \n",
    "Module to perform crossover (genetic operator) to the current generation\n",
    "\"\"\"\n",
    "import numpy as np\n",
    "from numpy import ndarray\n",
    "\n",
    "class _CrossOver:\n",
    "    \n",
    "    def __init__(self):\n",
    "        pass\n",
    "    \n",
    "    def split_and_glue_population(self, current_population: ndarray) -> ndarray:\n",
    "        \"\"\"\n",
    "        Performs split-and-glue crossover to current population (assuming 1&2 is paired, 3&4, etc.)\n",
    "       \n",
    "        Inputs: Current population\n",
    "        Outputs: Population of children (pairwise cross-over)\n",
    "        \"\"\"\n",
    "        count = 0\n",
    "        new_population = np.zeros(current_population.shape).astype(int)\n",
    "        for pair in np.arange(int(current_population.shape[0]/2)):\n",
    "            new_population[count], new_population[count+1] = self.split_and_glue(current_population[count], current_population[count+1])\n",
    "            count += 2\n",
    "        return new_population\n",
    "\n",
    "    \n",
    "    def split_and_glue(self, parent1, parent2):\n",
    "        \"\"\"\n",
    "        Crossover two parents to create two children. \n",
    "        The method used here is a simple split and glue approach. \n",
    "        The split position is randomly created.\n",
    "        \n",
    "        Inputs: Two parent organisms\n",
    "        Outputs: Two child organisms (crossed-over)\n",
    "        \"\"\"\n",
    "        cut_idx = np.random.randint(0, len(parent1))\n",
    "        child1 = np.concatenate((parent1[0:cut_idx], parent2[cut_idx:]))\n",
    "        child2 = np.concatenate((parent2[0:cut_idx], parent1[cut_idx:]))\n",
    "        return child1, child2\n",
    "    \n",
    "    \n",
    "    def random_allel_selection_population(self, current_population: ndarray) -> ndarray:\n",
    "        \"\"\"\n",
    "        Performs random allel selection crossover to current population (assuming 1&2 is paired, 3&4, etc.)\n",
    "       \n",
    "        Inputs: Current population\n",
    "        Outputs: Population of children (pairwise cross-over)\n",
    "        \"\"\"\n",
    "        count = 0\n",
    "        new_population = np.zeros(current_population.shape)\n",
    "        for pair in np.arange(int(current_population.shape[0]/2)):\n",
    "            new_population[count], new_population[count+1] = self.random_allel_selection(current_population[count], current_population[count+1])\n",
    "            count += 2\n",
    "        return new_population\n",
    "    \n",
    "    def random_allel_selection(self, parent1, parent2):\n",
    "        \"\"\"\n",
    "        Crossover two parents to create two children. \n",
    "        The method randomly selects an allel from one of the parents per loci.\n",
    "        \n",
    "        Inputs: Two parent organisms\n",
    "        Outputs: Two child organisms (crossed-over)\n",
    "        \"\"\"\n",
    "        rng = np.random.default_rng()\n",
    "        \n",
    "        allel_selector = rng.binomial(1, 0.5, size = parent1.shape[0])\n",
    "        allel_selector_reversed = 1-allel_selector\n",
    "        \n",
    "        child1 = allel_selector*parent1 + allel_selector_reversed*parent2\n",
    "        child2 = allel_selector*parent2 + allel_selector_reversed*parent1\n",
    "        return child1, child2"
   ]
  },
  {
   "cell_type": "code",
   "execution_count": 9,
   "id": "d5aaa1fc",
   "metadata": {},
   "outputs": [],
   "source": [
    "\"\"\" \n",
    "Mutation module with genetic operator \"mutation\"\n",
    "\"\"\"\n",
    "\n",
    "import numpy as np\n",
    "from numpy import ndarray\n",
    "class _Mutation:\n",
    "    \n",
    "    def __init__(self):\n",
    "        pass\n",
    "\n",
    "    def random_mutate(self, current_population: ndarray) -> ndarray:\n",
    "    \n",
    "        \"\"\"\n",
    "        Randomly switches genes (bit switch) in generation with probability mutate_prob\n",
    "\n",
    "        Inputs: Generation of organisms - Size: (pop_size x C (number of predictors))\n",
    "        Outputs: Generation of mutated organisms of same size\n",
    "        \n",
    "        \"\"\"\n",
    "\n",
    "        # initialize random generator\n",
    "        rng = np.random.default_rng()\n",
    "        \n",
    "        population_new = current_population.copy()\n",
    "        mutation_locations = rng.binomial(1, self.mutate_prob, size=current_population.shape)\n",
    "        mask = mutation_locations == 1\n",
    "        population_new[mask] = 1 - population_new[mask]  # flip bits using the mask\n",
    "        return population_new\n"
   ]
  },
  {
   "cell_type": "code",
   "execution_count": 10,
   "id": "a9ea6e48",
   "metadata": {},
   "outputs": [],
   "source": [
    "class _ParentSelection:\n",
    "\n",
    "    def __init__():\n",
    "        pass\n",
    "\n",
    "    def calculate_phi(self, current_population):\n",
    "        \"\"\"\n",
    "        Calculate selection probability as 2r_i/P(P+1)\n",
    "        \"\"\"\n",
    "        P = self.pop_size    # Best ranked is P, then P-1, P-2,...,1\n",
    "        rs = np.arange(P, 0, -1)\n",
    "        phi = 2 * rs/(P*(P+1))\n",
    "\n",
    "        return phi\n",
    "\n",
    "    def select_from_fitness_rank(self, current_population):\n",
    "        \"\"\"\n",
    "        Choose parents based on fitness ranks\n",
    "        \"\"\"\n",
    "        selection_prob = self.calculate_phi(current_population)\n",
    "                \n",
    "        row_idx = np.arange(len(current_population))\n",
    "        chosen_rows = np.random.choice(row_idx, size=self.pop_size, p=selection_prob,replace=True)\n",
    "        chosen_individuals = current_population[chosen_rows]\n",
    "\n",
    "        return chosen_individuals"
   ]
  },
  {
   "cell_type": "code",
   "execution_count": 35,
   "id": "c02527e6",
   "metadata": {},
   "outputs": [],
   "source": [
    "import random\n",
    "from functools import partial\n",
    "from typing import Callable, List\n",
    "import statsmodels.api\n",
    "\n",
    "import numpy as np\n",
    "from numpy import ndarray\n",
    "\n",
    "#from .utils import _CalculateFit, _CrossOver, _Mutation, _ParentSelection\n",
    "\n",
    "class GA (_CalculateFit,\n",
    "          _ParentSelection,\n",
    "          _CrossOver,\n",
    "          _Mutation\n",
    "         ):\n",
    "    def __init__(\n",
    "        self, \n",
    "        X: ndarray,\n",
    "        y: ndarray,\n",
    "        mod: Callable,\n",
    "        max_iter: int,\n",
    "        pop_size: int = None,  # type: ignore\n",
    "        # fitness_func = \"AIC\",\n",
    "        starting_population: ndarray = None,  # type: ignore\n",
    "        mutate_prob: float = 0.01,\n",
    "        save_sols: bool = False,\n",
    "        random_seed: int = None,  # type: ignore\n",
    "        ):\n",
    "        \"\"\"\n",
    "        parameters:\n",
    "        --------\n",
    "            X: design matrix (assuming no intercept column)\n",
    "            y: outcome variable\n",
    "            mod: regression model (statsmodels)\n",
    "            max_iter: GA max iteration\n",
    "            pop_size: GA population size\n",
    "            starting_population: if set use it as initial GA population\n",
    "            mutate_prob: GA mutation probability\n",
    "            save_sols: ... TODO\n",
    "            random_seed: random seed value\n",
    "\n",
    "        examples:\n",
    "        --------\n",
    "   ...: from GA import *\n",
    "   ...: import statsmodels.api as sm\n",
    "   ...: import numpy as np\n",
    "   ...: \n",
    "   ...: spector_data = sm.datasets.spector.load()\n",
    "   ...: \n",
    "   ...: X = spector_data.exog\n",
    "   ...: y = spector_data.endog\n",
    "   ...: \n",
    "   ...: # Initialize GA class\n",
    "   ...: ga_1 = GA(X=X, y=y, mod=sm.OLS, max_iter=10, random_seed=1)\n",
    "   ...: \n",
    "   ...: # Run GA under default operators\n",
    "   ...: final_pop, fit = ga_1.select()\n",
    "   ...: print(final_pop, fit)\n",
    "\n",
    "   ...: # Specify own operator, population size, and mutation probability\n",
    "   ...: operator = [GA.random_mutate, GA.random_mutate, GA.split_and_glue_population]\n",
    "   ...: ga_2 = GA(X=X, y=y, mod=sm.OLS, max_iter=10, pop_size = 4, mutate_prob=0.01, random_seed=12) TODO\n",
    "   ...: final_pop, fit = ga_2.select(operator)\n",
    "   ...: print(final_pop, fit)   \n",
    "        \"\"\"\n",
    "        self.random_seed: int = random_seed\n",
    "        if random_seed:\n",
    "            np.random.seed(self.random_seed)\n",
    "            random.seed(self.random_seed)\n",
    "\n",
    "        self.C: int = X.shape[1]    # this is ASSUMING NO intercept column\n",
    "\n",
    "        if pop_size is None:\n",
    "            self.pop_size: int = int(1.5 * self.C)    # C < P < 2C\n",
    "        else:\n",
    "            self.pop_size: int = pop_size\n",
    "\n",
    "        self.X: ndarray = X\n",
    "        self.y: ndarray = y\n",
    "        self.mod: Callable = mod\n",
    "        self.max_iter: int = max_iter\n",
    "        self.mutate_prob: float = mutate_prob\n",
    "        # self.fitness_func = fitness_func\n",
    "        self.starting_population: ndarray = starting_population\n",
    "        self.current_population = None\n",
    "\n",
    "        if save_sols == True:\n",
    "            self.solutions_matrix = np.zeros((self.max_iter, self.C))    # Pre-specify matrix for storing solutions\n",
    "        else:\n",
    "            pass\n",
    "\n",
    "    def initialize_pop(self):\n",
    "        \"\"\"\n",
    "        Creates the starting population\n",
    "        returns:\n",
    "            starting_population: ndarray (random bool matrix used to sample self.X)\n",
    "        \"\"\"\n",
    "        if not isinstance(self.starting_population, ndarray):    # Specify a starting pop\n",
    "            if self.pop_size % 2 == 1:    # If pop_size is odd\n",
    "                self.pop_size = self.pop_size + 1    # Only allow even number for population size\n",
    "                print(f\"Original pop_size is odd - new pop_size: {self.pop_size}\")\n",
    "            \n",
    "            cols = self.C\n",
    "            self.starting_population = np.random.choice([0, 1], size=(self.pop_size, cols))    # Complete random generation\n",
    "            \n",
    "        else:\n",
    "            pass\n",
    "            \n",
    "        self.starting_population = self.replace_zero_chromosome(self.starting_population)    # Replace chromosome of all zeros\n",
    "        \n",
    "        return self.starting_population\n",
    "\n",
    "    def select(self, operator_list: List[Callable] = None):\n",
    "        \"\"\"\n",
    "        Runs variable selection based on a user-defined genetic operator sequence: operator_list            \n",
    "        \"\"\"\n",
    "        \"\"\"Set random seed\"\"\"\n",
    "        random.seed(self.random_seed)\n",
    "\n",
    "        # set default mutation methods\n",
    "        # assigns user specified operator_list if its not None\n",
    "        operator_list = operator_list or [\n",
    "            self.split_and_glue_population,\n",
    "            self.random_mutate,\n",
    "            ]       \n",
    "        #for i, f in enumerate(operator_list):\n",
    "        #    if f.__name__ == \"random_mutate\":\n",
    "        #        operator_list[i] = partial(f, mutate_prob=self.mutate_prob)\n",
    "        print(f\"Using genetic operators: {operator_list}.\")\n",
    "\n",
    "        \"\"\"Prepare GA\"\"\"\n",
    "        starting_pop = self.initialize_pop()\n",
    "        current_pop = starting_pop.copy()\n",
    "\n",
    "        for i in range(self.max_iter):\n",
    "            \"\"\"Calculates fitness and pairs parents\"\"\"\n",
    "            # chrom_ranked: ordered bool matrix(current_pop) from the fittest to unfittest\n",
    "            chrom_ranked, fitness_val = self.calc_fit_sort_population(current_pop)\n",
    "            parents = self.select_from_fitness_rank(chrom_ranked)\n",
    "            current_pop = parents    # update current_pop's chromosome\n",
    "            print(f\"[iteration {i+1}] score: {fitness_val[0]:3.4f} | {chrom_ranked[0]}\")\n",
    "\n",
    "            # Runs genetic operator sequence\n",
    "            for method in operator_list:\n",
    "                new_population = method(current_pop)\n",
    "                current_pop = new_population\n",
    "            \n",
    "            # Check if any chromosome of zeros and replace the row\n",
    "            current_pop = self.replace_zero_chromosome(current_pop)    \n",
    "        \n",
    "        final_pop = current_pop.copy()\n",
    "        self.final_pop_sorted, self.final_fitness_val = self.calc_fit_sort_population(final_pop)\n",
    "        \n",
    "        return (self.final_pop_sorted[0], self.final_fitness_val[0])\n",
    "    \n",
    "    def replace_zero_chromosome(self, population):\n",
    "        \"\"\"\n",
    "        Finds if any chromosome is all zeros, and replaces the zero rows with random 0,1s\n",
    "        \"\"\"\n",
    "        while np.any((population == 0).all(axis=1)):\n",
    "            # Find the indices of rows with all zeros\n",
    "            zero_rows_indices = np.where((population == 0).all(axis=1))[0]\n",
    "\n",
    "            # Replace each zero row with a randomly generated 0,1 row\n",
    "            for row_index in zero_rows_indices:\n",
    "                population[row_index] = np.random.randint(0, 2, self.C)\n",
    "        \n",
    "        return population\n",
    "            \n",
    "\n"
   ]
  },
  {
   "cell_type": "code",
   "execution_count": 36,
   "id": "2254f1db",
   "metadata": {},
   "outputs": [],
   "source": [
    "import pandas as pd \n",
    "import statsmodels.api as sm\n",
    "\n",
    "data = pd.read_csv(\"./assets/baseball.dat\", delimiter = ' ')\n",
    "\n",
    "X = data.drop(\"salary\", axis = 1)\n",
    "y = data[\"salary\"]"
   ]
  },
  {
   "cell_type": "code",
   "execution_count": 37,
   "id": "311420e4",
   "metadata": {},
   "outputs": [],
   "source": [
    "GA = GA(pop_size=26, X=X, y=y, mod=sm.OLS, max_iter=100)"
   ]
  },
  {
   "cell_type": "code",
   "execution_count": 15,
   "id": "51f0b597",
   "metadata": {},
   "outputs": [
    {
     "name": "stdout",
     "output_type": "stream",
     "text": [
      "Using genetic operators: [<bound method _CrossOver.split_and_glue_population of <__main__.GA object at 0x7f7837915c90>>, <bound method _Mutation.random_mutate of <__main__.GA object at 0x7f7837915c90>>].\n",
      "[iteration 1] score: 5384.8545 | [0 0 1 1 0 0 1 1 0 1 1 1 1 1 1 1 0 0 1 1 1 1 1 0 1 1 1]\n",
      "[iteration 2] score: 5384.8545 | [0 0 1 1 0 0 1 1 0 1 1 1 1 1 1 1 0 0 1 1 1 1 1 0 1 1 1]\n",
      "[iteration 3] score: 5384.3443 | [0 0 1 1 0 0 1 1 0 1 1 1 1 1 1 1 0 0 1 1 1 1 1 1 1 0 0]\n",
      "[iteration 4] score: 5381.8133 | [0 0 1 1 0 0 1 1 0 1 1 1 1 1 1 1 1 1 1 1 1 0 1 1 1 0 0]\n",
      "[iteration 5] score: 5380.0512 | [0 0 1 1 0 0 1 1 0 1 1 1 1 1 1 1 0 1 0 1 0 0 0 0 0 0 1]\n",
      "[iteration 6] score: 5380.0512 | [0 0 1 1 0 0 1 1 0 1 1 1 1 1 1 1 0 1 0 1 0 0 0 0 0 0 1]\n",
      "[iteration 7] score: 5380.0512 | [0 0 1 1 0 0 1 1 0 1 1 1 1 1 1 1 0 1 0 1 0 0 0 0 0 0 1]\n",
      "[iteration 8] score: 5379.9741 | [0 0 1 1 0 0 1 1 0 1 1 1 1 1 1 1 0 1 0 1 0 0 1 1 1 0 0]\n",
      "[iteration 9] score: 5378.8751 | [0 0 1 1 0 0 1 1 0 1 1 1 1 1 1 1 0 0 0 0 0 1 1 0 1 0 0]\n",
      "[iteration 10] score: 5377.2950 | [0 0 1 1 0 0 1 1 0 1 1 1 1 1 1 1 0 0 1 0 0 0 1 0 1 0 0]\n",
      "[iteration 11] score: 5377.2950 | [0 0 1 1 0 0 1 1 0 1 1 1 1 1 1 1 0 0 1 0 0 0 1 0 1 0 0]\n",
      "[iteration 12] score: 5377.6323 | [0 0 1 1 0 0 0 1 0 1 1 0 1 1 1 1 0 0 1 0 0 1 0 1 1 0 0]\n",
      "[iteration 13] score: 5377.1773 | [0 0 1 1 0 0 1 1 0 1 1 1 1 1 1 1 1 1 1 0 0 1 0 0 1 0 0]\n",
      "[iteration 14] score: 5376.5112 | [1 0 1 1 0 0 0 1 0 1 1 1 1 1 1 1 1 1 1 0 0 1 0 0 1 0 0]\n",
      "[iteration 15] score: 5376.7049 | [0 1 1 1 0 0 0 1 0 1 1 1 1 1 1 1 1 1 1 0 0 1 0 0 1 0 0]\n",
      "[iteration 16] score: 5376.7049 | [0 1 1 1 0 0 0 1 0 1 1 1 1 1 1 1 1 1 1 0 0 1 0 0 1 0 0]\n",
      "[iteration 17] score: 5375.3070 | [0 0 1 1 0 0 0 1 0 1 1 1 1 1 1 1 1 1 1 0 0 1 0 0 1 0 0]\n",
      "[iteration 18] score: 5373.8498 | [0 0 1 1 0 0 0 1 0 1 1 1 1 1 1 1 1 1 1 0 0 0 0 0 1 0 0]\n",
      "[iteration 19] score: 5375.3070 | [0 0 1 1 0 0 0 1 0 1 1 1 1 1 1 1 1 1 1 0 0 1 0 0 1 0 0]\n",
      "[iteration 20] score: 5375.3070 | [0 0 1 1 0 0 0 1 0 1 1 1 1 1 1 1 1 1 1 0 0 1 0 0 1 0 0]\n",
      "[iteration 21] score: 5373.8498 | [0 0 1 1 0 0 0 1 0 1 1 1 1 1 1 1 1 1 1 0 0 0 0 0 1 0 0]\n",
      "[iteration 22] score: 5373.8498 | [0 0 1 1 0 0 0 1 0 1 1 1 1 1 1 1 1 1 1 0 0 0 0 0 1 0 0]\n",
      "[iteration 23] score: 5373.8498 | [0 0 1 1 0 0 0 1 0 1 1 1 1 1 1 1 1 1 1 0 0 0 0 0 1 0 0]\n",
      "[iteration 24] score: 5373.8498 | [0 0 1 1 0 0 0 1 0 1 1 1 1 1 1 1 1 1 1 0 0 0 0 0 1 0 0]\n",
      "[iteration 25] score: 5373.8498 | [0 0 1 1 0 0 0 1 0 1 1 1 1 1 1 1 1 1 1 0 0 0 0 0 1 0 0]\n",
      "[iteration 26] score: 5373.8498 | [0 0 1 1 0 0 0 1 0 1 1 1 1 1 1 1 1 1 1 0 0 0 0 0 1 0 0]\n",
      "[iteration 27] score: 5373.8498 | [0 0 1 1 0 0 0 1 0 1 1 1 1 1 1 1 1 1 1 0 0 0 0 0 1 0 0]\n",
      "[iteration 28] score: 5373.8498 | [0 0 1 1 0 0 0 1 0 1 1 1 1 1 1 1 1 1 1 0 0 0 0 0 1 0 0]\n",
      "[iteration 29] score: 5373.8498 | [0 0 1 1 0 0 0 1 0 1 1 1 1 1 1 1 1 1 1 0 0 0 0 0 1 0 0]\n",
      "[iteration 30] score: 5373.8498 | [0 0 1 1 0 0 0 1 0 1 1 1 1 1 1 1 1 1 1 0 0 0 0 0 1 0 0]\n",
      "[iteration 31] score: 5373.8498 | [0 0 1 1 0 0 0 1 0 1 1 1 1 1 1 1 1 1 1 0 0 0 0 0 1 0 0]\n",
      "[iteration 32] score: 5373.8498 | [0 0 1 1 0 0 0 1 0 1 1 1 1 1 1 1 1 1 1 0 0 0 0 0 1 0 0]\n",
      "[iteration 33] score: 5373.8498 | [0 0 1 1 0 0 0 1 0 1 1 1 1 1 1 1 1 1 1 0 0 0 0 0 1 0 0]\n",
      "[iteration 34] score: 5373.8498 | [0 0 1 1 0 0 0 1 0 1 1 1 1 1 1 1 1 1 1 0 0 0 0 0 1 0 0]\n",
      "[iteration 35] score: 5373.8498 | [0 0 1 1 0 0 0 1 0 1 1 1 1 1 1 1 1 1 1 0 0 0 0 0 1 0 0]\n",
      "[iteration 36] score: 5373.8498 | [0 0 1 1 0 0 0 1 0 1 1 1 1 1 1 1 1 1 1 0 0 0 0 0 1 0 0]\n",
      "[iteration 37] score: 5373.8498 | [0 0 1 1 0 0 0 1 0 1 1 1 1 1 1 1 1 1 1 0 0 0 0 0 1 0 0]\n",
      "[iteration 38] score: 5373.8498 | [0 0 1 1 0 0 0 1 0 1 1 1 1 1 1 1 1 1 1 0 0 0 0 0 1 0 0]\n",
      "[iteration 39] score: 5373.8498 | [0 0 1 1 0 0 0 1 0 1 1 1 1 1 1 1 1 1 1 0 0 0 0 0 1 0 0]\n",
      "[iteration 40] score: 5373.8498 | [0 0 1 1 0 0 0 1 0 1 1 1 1 1 1 1 1 1 1 0 0 0 0 0 1 0 0]\n",
      "[iteration 41] score: 5373.8498 | [0 0 1 1 0 0 0 1 0 1 1 1 1 1 1 1 1 1 1 0 0 0 0 0 1 0 0]\n",
      "[iteration 42] score: 5373.8498 | [0 0 1 1 0 0 0 1 0 1 1 1 1 1 1 1 1 1 1 0 0 0 0 0 1 0 0]\n",
      "[iteration 43] score: 5373.8498 | [0 0 1 1 0 0 0 1 0 1 1 1 1 1 1 1 1 1 1 0 0 0 0 0 1 0 0]\n",
      "[iteration 44] score: 5373.8498 | [0 0 1 1 0 0 0 1 0 1 1 1 1 1 1 1 1 1 1 0 0 0 0 0 1 0 0]\n",
      "[iteration 45] score: 5373.8498 | [0 0 1 1 0 0 0 1 0 1 1 1 1 1 1 1 1 1 1 0 0 0 0 0 1 0 0]\n",
      "[iteration 46] score: 5373.8498 | [0 0 1 1 0 0 0 1 0 1 1 1 1 1 1 1 1 1 1 0 0 0 0 0 1 0 0]\n",
      "[iteration 47] score: 5373.8498 | [0 0 1 1 0 0 0 1 0 1 1 1 1 1 1 1 1 1 1 0 0 0 0 0 1 0 0]\n",
      "[iteration 48] score: 5373.8498 | [0 0 1 1 0 0 0 1 0 1 1 1 1 1 1 1 1 1 1 0 0 0 0 0 1 0 0]\n",
      "[iteration 49] score: 5373.8498 | [0 0 1 1 0 0 0 1 0 1 1 1 1 1 1 1 1 1 1 0 0 0 0 0 1 0 0]\n",
      "[iteration 50] score: 5373.8498 | [0 0 1 1 0 0 0 1 0 1 1 1 1 1 1 1 1 1 1 0 0 0 0 0 1 0 0]\n",
      "[iteration 51] score: 5373.8498 | [0 0 1 1 0 0 0 1 0 1 1 1 1 1 1 1 1 1 1 0 0 0 0 0 1 0 0]\n",
      "[iteration 52] score: 5373.8498 | [0 0 1 1 0 0 0 1 0 1 1 1 1 1 1 1 1 1 1 0 0 0 0 0 1 0 0]\n",
      "[iteration 53] score: 5373.8498 | [0 0 1 1 0 0 0 1 0 1 1 1 1 1 1 1 1 1 1 0 0 0 0 0 1 0 0]\n",
      "[iteration 54] score: 5373.8498 | [0 0 1 1 0 0 0 1 0 1 1 1 1 1 1 1 1 1 1 0 0 0 0 0 1 0 0]\n",
      "[iteration 55] score: 5373.8498 | [0 0 1 1 0 0 0 1 0 1 1 1 1 1 1 1 1 1 1 0 0 0 0 0 1 0 0]\n",
      "[iteration 56] score: 5373.8498 | [0 0 1 1 0 0 0 1 0 1 1 1 1 1 1 1 1 1 1 0 0 0 0 0 1 0 0]\n",
      "[iteration 57] score: 5373.8498 | [0 0 1 1 0 0 0 1 0 1 1 1 1 1 1 1 1 1 1 0 0 0 0 0 1 0 0]\n",
      "[iteration 58] score: 5373.8498 | [0 0 1 1 0 0 0 1 0 1 1 1 1 1 1 1 1 1 1 0 0 0 0 0 1 0 0]\n",
      "[iteration 59] score: 5373.8498 | [0 0 1 1 0 0 0 1 0 1 1 1 1 1 1 1 1 1 1 0 0 0 0 0 1 0 0]\n",
      "[iteration 60] score: 5373.8498 | [0 0 1 1 0 0 0 1 0 1 1 1 1 1 1 1 1 1 1 0 0 0 0 0 1 0 0]\n",
      "[iteration 61] score: 5373.8498 | [0 0 1 1 0 0 0 1 0 1 1 1 1 1 1 1 1 1 1 0 0 0 0 0 1 0 0]\n",
      "[iteration 62] score: 5373.8498 | [0 0 1 1 0 0 0 1 0 1 1 1 1 1 1 1 1 1 1 0 0 0 0 0 1 0 0]\n",
      "[iteration 63] score: 5373.8498 | [0 0 1 1 0 0 0 1 0 1 1 1 1 1 1 1 1 1 1 0 0 0 0 0 1 0 0]\n",
      "[iteration 64] score: 5373.8498 | [0 0 1 1 0 0 0 1 0 1 1 1 1 1 1 1 1 1 1 0 0 0 0 0 1 0 0]\n",
      "[iteration 65] score: 5373.8498 | [0 0 1 1 0 0 0 1 0 1 1 1 1 1 1 1 1 1 1 0 0 0 0 0 1 0 0]\n",
      "[iteration 66] score: 5373.8498 | [0 0 1 1 0 0 0 1 0 1 1 1 1 1 1 1 1 1 1 0 0 0 0 0 1 0 0]\n",
      "[iteration 67] score: 5373.8498 | [0 0 1 1 0 0 0 1 0 1 1 1 1 1 1 1 1 1 1 0 0 0 0 0 1 0 0]\n",
      "[iteration 68] score: 5373.8498 | [0 0 1 1 0 0 0 1 0 1 1 1 1 1 1 1 1 1 1 0 0 0 0 0 1 0 0]\n",
      "[iteration 69] score: 5373.8498 | [0 0 1 1 0 0 0 1 0 1 1 1 1 1 1 1 1 1 1 0 0 0 0 0 1 0 0]\n",
      "[iteration 70] score: 5373.8498 | [0 0 1 1 0 0 0 1 0 1 1 1 1 1 1 1 1 1 1 0 0 0 0 0 1 0 0]\n",
      "[iteration 71] score: 5373.8498 | [0 0 1 1 0 0 0 1 0 1 1 1 1 1 1 1 1 1 1 0 0 0 0 0 1 0 0]\n",
      "[iteration 72] score: 5373.8498 | [0 0 1 1 0 0 0 1 0 1 1 1 1 1 1 1 1 1 1 0 0 0 0 0 1 0 0]\n",
      "[iteration 73] score: 5373.8498 | [0 0 1 1 0 0 0 1 0 1 1 1 1 1 1 1 1 1 1 0 0 0 0 0 1 0 0]\n",
      "[iteration 74] score: 5373.8498 | [0 0 1 1 0 0 0 1 0 1 1 1 1 1 1 1 1 1 1 0 0 0 0 0 1 0 0]\n",
      "[iteration 75] score: 5373.8498 | [0 0 1 1 0 0 0 1 0 1 1 1 1 1 1 1 1 1 1 0 0 0 0 0 1 0 0]\n",
      "[iteration 76] score: 5373.8498 | [0 0 1 1 0 0 0 1 0 1 1 1 1 1 1 1 1 1 1 0 0 0 0 0 1 0 0]\n",
      "[iteration 77] score: 5373.8498 | [0 0 1 1 0 0 0 1 0 1 1 1 1 1 1 1 1 1 1 0 0 0 0 0 1 0 0]\n",
      "[iteration 78] score: 5373.8498 | [0 0 1 1 0 0 0 1 0 1 1 1 1 1 1 1 1 1 1 0 0 0 0 0 1 0 0]\n",
      "[iteration 79] score: 5373.8498 | [0 0 1 1 0 0 0 1 0 1 1 1 1 1 1 1 1 1 1 0 0 0 0 0 1 0 0]\n",
      "[iteration 80] score: 5373.8498 | [0 0 1 1 0 0 0 1 0 1 1 1 1 1 1 1 1 1 1 0 0 0 0 0 1 0 0]\n",
      "[iteration 81] score: 5373.8498 | [0 0 1 1 0 0 0 1 0 1 1 1 1 1 1 1 1 1 1 0 0 0 0 0 1 0 0]\n",
      "[iteration 82] score: 5373.8498 | [0 0 1 1 0 0 0 1 0 1 1 1 1 1 1 1 1 1 1 0 0 0 0 0 1 0 0]\n",
      "[iteration 83] score: 5373.8498 | [0 0 1 1 0 0 0 1 0 1 1 1 1 1 1 1 1 1 1 0 0 0 0 0 1 0 0]\n",
      "[iteration 84] score: 5373.8498 | [0 0 1 1 0 0 0 1 0 1 1 1 1 1 1 1 1 1 1 0 0 0 0 0 1 0 0]\n",
      "[iteration 85] score: 5373.8498 | [0 0 1 1 0 0 0 1 0 1 1 1 1 1 1 1 1 1 1 0 0 0 0 0 1 0 0]\n",
      "[iteration 86] score: 5373.8498 | [0 0 1 1 0 0 0 1 0 1 1 1 1 1 1 1 1 1 1 0 0 0 0 0 1 0 0]\n",
      "[iteration 87] score: 5373.8498 | [0 0 1 1 0 0 0 1 0 1 1 1 1 1 1 1 1 1 1 0 0 0 0 0 1 0 0]\n",
      "[iteration 88] score: 5373.8498 | [0 0 1 1 0 0 0 1 0 1 1 1 1 1 1 1 1 1 1 0 0 0 0 0 1 0 0]\n",
      "[iteration 89] score: 5373.8498 | [0 0 1 1 0 0 0 1 0 1 1 1 1 1 1 1 1 1 1 0 0 0 0 0 1 0 0]\n"
     ]
    },
    {
     "name": "stdout",
     "output_type": "stream",
     "text": [
      "[iteration 90] score: 5373.8498 | [0 0 1 1 0 0 0 1 0 1 1 1 1 1 1 1 1 1 1 0 0 0 0 0 1 0 0]\n",
      "[iteration 91] score: 5373.8498 | [0 0 1 1 0 0 0 1 0 1 1 1 1 1 1 1 1 1 1 0 0 0 0 0 1 0 0]\n",
      "[iteration 92] score: 5373.8498 | [0 0 1 1 0 0 0 1 0 1 1 1 1 1 1 1 1 1 1 0 0 0 0 0 1 0 0]\n",
      "[iteration 93] score: 5373.8498 | [0 0 1 1 0 0 0 1 0 1 1 1 1 1 1 1 1 1 1 0 0 0 0 0 1 0 0]\n",
      "[iteration 94] score: 5373.8498 | [0 0 1 1 0 0 0 1 0 1 1 1 1 1 1 1 1 1 1 0 0 0 0 0 1 0 0]\n",
      "[iteration 95] score: 5373.8498 | [0 0 1 1 0 0 0 1 0 1 1 1 1 1 1 1 1 1 1 0 0 0 0 0 1 0 0]\n",
      "[iteration 96] score: 5373.8498 | [0 0 1 1 0 0 0 1 0 1 1 1 1 1 1 1 1 1 1 0 0 0 0 0 1 0 0]\n",
      "[iteration 97] score: 5373.8498 | [0 0 1 1 0 0 0 1 0 1 1 1 1 1 1 1 1 1 1 0 0 0 0 0 1 0 0]\n",
      "[iteration 98] score: 5373.8498 | [0 0 1 1 0 0 0 1 0 1 1 1 1 1 1 1 1 1 1 0 0 0 0 0 1 0 0]\n",
      "[iteration 99] score: 5373.8498 | [0 0 1 1 0 0 0 1 0 1 1 1 1 1 1 1 1 1 1 0 0 0 0 0 1 0 0]\n",
      "[iteration 100] score: 5373.8498 | [0 0 1 1 0 0 0 1 0 1 1 1 1 1 1 1 1 1 1 0 0 0 0 0 1 0 0]\n"
     ]
    },
    {
     "data": {
      "text/plain": [
       "(array([0, 0, 1, 1, 0, 0, 0, 1, 0, 1, 1, 1, 1, 1, 1, 1, 1, 1, 1, 0, 0, 0,\n",
       "        0, 0, 1, 0, 0]),\n",
       " 5373.8497566549095)"
      ]
     },
     "execution_count": 15,
     "metadata": {},
     "output_type": "execute_result"
    }
   ],
   "source": [
    "GA.select()"
   ]
  },
  {
   "cell_type": "code",
   "execution_count": 44,
   "id": "ed4803ce",
   "metadata": {},
   "outputs": [
    {
     "data": {
      "image/png": "[encoded data removed]",
      "text/plain": [
       "<Figure size 640x480 with 1 Axes>"
      ]
     },
     "metadata": {},
     "output_type": "display_data"
    }
   ],
   "source": [
    "import matplotlib.pyplot as plt\n",
    "\n",
    "starting_pop = GA.initialize_pop()\n",
    "current_pop = starting_pop.copy()\n",
    "operator_list = [GA.split_and_glue_population, GA.random_mutate]\n",
    "\n",
    "for i in range(GA.max_iter):\n",
    "    # Calculates fitness and pairs parents\n",
    "    chrom_ranked, fitness_val = GA.calc_fit_sort_population(current_pop)\n",
    "    parents = GA.select_from_fitness_rank(chrom_ranked)\n",
    "    current_pop = parents\n",
    "    if i%2 == 0:\n",
    "        plt.scatter([i]*len(fitness_val), fitness_val, color = \"black\", s=12)\n",
    "\n",
    "    # Runs genetic operator sequence\n",
    "    for method in operator_list:\n",
    "        new_population = method(current_pop)\n",
    "        current_pop = new_population\n",
    "    # Check if any chromosome of zeros and replace the row\n",
    "    current_pop = GA.replace_zero_chromosome(current_pop)    \n",
    "\n",
    "plt.ylabel(\"AIC\")\n",
    "plt.xlabel(\"Generation\")\n",
    "plt.title(\"Figure 1: Results of GA\")\n",
    "#plt.savefig(\"GA_results_plot_baseball.png\")\n",
    "\n",
    "final_pop = current_pop.copy()\n",
    "GA.final_pop_sorted, GA.final_fitness_val = GA.calc_fit_sort_population(final_pop)\n",
    "\n",
    "fittest_org, fittest_score = (GA.final_pop_sorted[0], GA.final_fitness_val[0])"
   ]
  },
  {
   "cell_type": "code",
   "execution_count": 46,
   "id": "996ad666",
   "metadata": {},
   "outputs": [
    {
     "data": {
      "text/plain": [
       "(array([0, 0, 1, 0, 0, 0, 1, 1, 0, 1, 1, 0, 1, 1, 1, 0, 0, 0, 0, 0, 0, 0,\n",
       "        0, 1, 1, 0, 0]),\n",
       " 5373.74894828915)"
      ]
     },
     "execution_count": 46,
     "metadata": {},
     "output_type": "execute_result"
    }
   ],
   "source": [
    "fittest_org, fittest_score"
   ]
  },
  {
   "cell_type": "markdown",
   "id": "4df50ac7",
   "metadata": {},
   "source": [
    "## Fit Lasso"
   ]
  },
  {
   "cell_type": "code",
   "execution_count": 110,
   "id": "e3257772",
   "metadata": {},
   "outputs": [],
   "source": [
    "from sklearn.preprocessing import StandardScaler\n",
    "scaler = StandardScaler()\n",
    "X_scaled = scaler.fit_transform(X)\n",
    "#X_scaled = sm.add_constant(X_scaled)"
   ]
  },
  {
   "cell_type": "code",
   "execution_count": 115,
   "id": "ac9c0db4",
   "metadata": {},
   "outputs": [],
   "source": [
    "Lasso = sm.OLS(y, X).fit_regularized(method = \"elastic_net\", alpha = 0.1, L1_wt = 1)\n",
    "lasso_params= Lasso.params.sort_values()"
   ]
  },
  {
   "cell_type": "code",
   "execution_count": 116,
   "id": "ffa5eb28",
   "metadata": {},
   "outputs": [
    {
     "data": {
      "text/plain": [
       "<BarContainer object of 27 artists>"
      ]
     },
     "execution_count": 116,
     "metadata": {},
     "output_type": "execute_result"
    },
    {
     "data": {
      "image/png": "[encoded data removed]",
      "text/plain": [
       "<Figure size 640x480 with 1 Axes>"
      ]
     },
     "metadata": {},
     "output_type": "display_data"
    }
   ],
   "source": [
    "import matplotlib.pyplot as plt\n",
    "import numpy as np\n",
    "plt.barh(lasso_params.index, np.abs(lasso_params.values), label = \"Lasso\", color = \"seagreen\", align = \"center\", alpha = 0.7)"
   ]
  },
  {
   "cell_type": "markdown",
   "id": "a0cd99cd",
   "metadata": {},
   "source": [
    "## Fit fittest organism"
   ]
  },
  {
   "cell_type": "code",
   "execution_count": 76,
   "id": "ee11450f",
   "metadata": {},
   "outputs": [],
   "source": [
    "X_trimmed = X.drop(X.columns[fittest_org == 0], axis=1)"
   ]
  },
  {
   "cell_type": "code",
   "execution_count": 77,
   "id": "996459c7",
   "metadata": {},
   "outputs": [
    {
     "name": "stderr",
     "output_type": "stream",
     "text": [
      "/var/folders/9v/21xqllks32b9v9gj8tm8bf4m0000gn/T/ipykernel_48975/2490332900.py:2: FutureWarning: The default dtype for empty Series will be 'object' instead of 'float64' in a future version. Specify a dtype explicitly to silence this warning.\n",
      "  reg_params = pd.Series(index = lasso_params.index).fillna(0)\n"
     ]
    }
   ],
   "source": [
    "Regression_GA = sm.OLS(y, X_trimmed).fit()\n",
    "reg_params = pd.Series(index = lasso_params.index).fillna(0)\n",
    "reg_params[Regression_GA.params.index] = Regression_GA.params.values"
   ]
  },
  {
   "cell_type": "markdown",
   "id": "d73d6355",
   "metadata": {},
   "source": [
    "## Plot"
   ]
  },
  {
   "cell_type": "code",
   "execution_count": 84,
   "id": "02d43e30",
   "metadata": {},
   "outputs": [
    {
     "data": {
      "image/png": "[encoded data removed]",
      "text/plain": [
       "<Figure size 640x480 with 1 Axes>"
      ]
     },
     "metadata": {},
     "output_type": "display_data"
    }
   ],
   "source": [
    "plt.barh(lasso_params.index, np.abs(lasso_params.values), label = \"Lasso\", color = \"steelblue\", align = \"center\", alpha = 0.7)\n",
    "plt.barh(lasso_params.index, -np.abs(reg_params.values), label = \"GA (OLS)\", color = \"black\", align = \"center\", alpha = 0.7)\n",
    "plt.xlabel(\"Feature Importance\")\n",
    "plt.ylabel(\"Predictor\")\n",
    "plt.title(\"Figure 2: Comparison to Lasso\")\n",
    "plt.legend()\n",
    "plt.xticks([])\n",
    "plt.savefig(\"LASSO_comparison.png\")"
   ]
  },
  {
   "cell_type": "code",
   "execution_count": 67,
   "id": "409d22a7",
   "metadata": {},
   "outputs": [
    {
     "data": {
      "text/plain": [
       "Index(['average', 'obp', 'runs', 'hits', 'doubles', 'triples', 'homeruns',\n",
       "       'rbis', 'walks', 'sos', 'sbs', 'errors', 'freeagent', 'arbitration',\n",
       "       'runsperso', 'hitsperso', 'hrsperso', 'rbisperso', 'walksperso',\n",
       "       'obppererror', 'runspererror', 'hitspererror', 'hrspererror',\n",
       "       'soserrors', 'sbsobp', 'sbsruns', 'sbshits'],\n",
       "      dtype='object')"
      ]
     },
     "execution_count": 67,
     "metadata": {},
     "output_type": "execute_result"
    }
   ],
   "source": [
    "X.columns"
   ]
  },
  {
   "cell_type": "code",
   "execution_count": 73,
   "id": "3a0066a7",
   "metadata": {},
   "outputs": [
    {
     "data": {
      "text/plain": [
       "runs              8.102434\n",
       "homeruns         25.742733\n",
       "rbis             15.038548\n",
       "sos              -9.837904\n",
       "sbs             -54.356513\n",
       "freeagent      1245.251684\n",
       "arbitration     813.314139\n",
       "runsperso      -159.714962\n",
       "soserrors        -0.125224\n",
       "sbsobp          191.485220\n",
       "dtype: float64"
      ]
     },
     "execution_count": 73,
     "metadata": {},
     "output_type": "execute_result"
    }
   ],
   "source": [
    "Regression_GA2 = sm.OLS(y, X_trimmed).fit()\n",
    "Regression_GA2.params"
   ]
  },
  {
   "cell_type": "code",
   "execution_count": 90,
   "id": "8e12bba3",
   "metadata": {},
   "outputs": [
    {
     "data": {
      "text/plain": [
       "17"
      ]
     },
     "execution_count": 90,
     "metadata": {},
     "output_type": "execute_result"
    }
   ],
   "source": [
    "(fittest_org==0).sum()"
   ]
  },
  {
   "cell_type": "code",
   "execution_count": 95,
   "id": "fbb6268d",
   "metadata": {},
   "outputs": [
    {
     "data": {
      "text/plain": [
       "0"
      ]
     },
     "execution_count": 95,
     "metadata": {},
     "output_type": "execute_result"
    }
   ],
   "source": [
    "(np.abs(Lasso.params) <= 0.01).sum()"
   ]
  },
  {
   "cell_type": "code",
   "execution_count": 109,
   "id": "24be7089",
   "metadata": {},
   "outputs": [
    {
     "data": {
      "text/plain": [
       "13"
      ]
     },
     "execution_count": 109,
     "metadata": {},
     "output_type": "execute_result"
    }
   ],
   "source": [
    "(np.abs(Lasso.params.values) <= 20).sum()"
   ]
  },
  {
   "cell_type": "code",
   "execution_count": 102,
   "id": "883bd2a8",
   "metadata": {},
   "outputs": [
    {
     "data": {
      "text/plain": [
       "array([False, False, False,  True, False, False, False, False,  True,\n",
       "       False, False, False, False, False, False, False, False, False,\n",
       "       False, False, False, False, False,  True, False,  True,  True])"
      ]
     },
     "execution_count": 102,
     "metadata": {},
     "output_type": "execute_result"
    }
   ],
   "source": [
    "np.abs(Lasso.params.values) < 1"
   ]
  },
  {
   "cell_type": "code",
   "execution_count": 105,
   "id": "14acd2f9",
   "metadata": {},
   "outputs": [
    {
     "data": {
      "text/plain": [
       "array([ 6.41879294e+02,  3.18731601e+02,  2.07404910e+01, -5.82230765e-01,\n",
       "        2.99714613e+00, -2.61453043e+01,  3.93182855e+01,  7.81501742e+00,\n",
       "       -7.74784496e-01, -1.37957590e+01, -1.24865677e+00, -2.59617877e+01,\n",
       "        1.27296742e+03,  8.34211441e+02, -3.29074760e+02, -1.98022705e+01,\n",
       "       -6.85109419e+02,  1.93158773e+02, -6.79571886e+01, -5.92997154e+01,\n",
       "        3.99739872e+00, -3.61285767e+00, -1.80701868e+01,  5.82149264e-02,\n",
       "        3.46885615e+01, -1.18492392e-01,  4.92365282e-02])"
      ]
     },
     "execution_count": 105,
     "metadata": {},
     "output_type": "execute_result"
    }
   ],
   "source": [
    "Lasso.params.values.astype(float)"
   ]
  },
  {
   "cell_type": "code",
   "execution_count": null,
   "id": "eefaf34d",
   "metadata": {},
   "outputs": [],
   "source": []
  }
 ],
 "metadata": {
  "kernelspec": {
   "display_name": "Python 3 (ipykernel)",
   "language": "python",
   "name": "python3"
  },
  "language_info": {
   "codemirror_mode": {
    "name": "ipython",
    "version": 3
   },
   "file_extension": ".py",
   "mimetype": "text/x-python",
   "name": "python",
   "nbconvert_exporter": "python",
   "pygments_lexer": "ipython3",
   "version": "3.10.9"
  }
 },
 "nbformat": 4,
 "nbformat_minor": 5
}
